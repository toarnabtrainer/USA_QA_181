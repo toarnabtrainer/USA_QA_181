{
 "cells": [
  {
   "cell_type": "code",
   "execution_count": 9,
   "id": "c3248805-ba6d-4b8c-a8ba-09922552af21",
   "metadata": {},
   "outputs": [],
   "source": [
    "# importing required modules\n",
    "from selenium import webdriver"
   ]
  },
  {
   "cell_type": "code",
   "execution_count": 10,
   "id": "93b277fa-915b-4beb-907a-aca2bd0e56f2",
   "metadata": {},
   "outputs": [
    {
     "name": "stdout",
     "output_type": "stream",
     "text": [
      "4.1.3\n"
     ]
    }
   ],
   "source": [
    "# check the version of the selenium software\n",
    "print (webdriver.__version__)"
   ]
  },
  {
   "cell_type": "code",
   "execution_count": 13,
   "id": "30ff49e7-e39d-4b95-94a1-17db33d1ecd9",
   "metadata": {},
   "outputs": [
    {
     "name": "stderr",
     "output_type": "stream",
     "text": [
      "<ipython-input-13-702b42a3bc60>:2: DeprecationWarning: executable_path has been deprecated, please pass in a Service object\n",
      "  driver = webdriver.Chrome(executable_path=\"./chromedriver.exe\")\n"
     ]
    }
   ],
   "source": [
    "# please check chromedriver.exe is present in the same directory or not\n",
    "driver = webdriver.Chrome(executable_path=\"./chromedriver.exe\")"
   ]
  },
  {
   "cell_type": "code",
   "execution_count": 14,
   "id": "5514ebf2-8db4-4de2-9b1d-b45acd51a072",
   "metadata": {},
   "outputs": [],
   "source": [
    "# start wikipedia page\n",
    "driver.get('https://en.wikipedia.org/wiki/Main_Page')"
   ]
  },
  {
   "cell_type": "code",
   "execution_count": 15,
   "id": "57f64b04-5737-4025-9592-04f0d96ddfc1",
   "metadata": {},
   "outputs": [
    {
     "name": "stdout",
     "output_type": "stream",
     "text": [
      "https://en.wikipedia.org/wiki/Main_Page\n",
      "Wikipedia, the free encyclopedia\n"
     ]
    }
   ],
   "source": [
    "# get the current URL and the current title\n",
    "print (driver.current_url)\n",
    "print (driver.title)"
   ]
  },
  {
   "cell_type": "code",
   "execution_count": 17,
   "id": "a7c22575-d0d8-4e46-a1c2-522c7e95f7fc",
   "metadata": {},
   "outputs": [
    {
     "name": "stdout",
     "output_type": "stream",
     "text": [
      "https://www.google.com/\n",
      "Google\n"
     ]
    }
   ],
   "source": [
    "# now go for a new page, say \"Google\"\n",
    "driver.get('https://www.google.com/')\n",
    "print (driver.current_url)\n",
    "print (driver.title)"
   ]
  },
  {
   "cell_type": "code",
   "execution_count": 18,
   "id": "a55c1a2b-dbd0-48c0-bf8d-2a7442f37f37",
   "metadata": {},
   "outputs": [
    {
     "name": "stdout",
     "output_type": "stream",
     "text": [
      "https://en.wikipedia.org/wiki/Main_Page\n",
      "Wikipedia, the free encyclopedia\n"
     ]
    }
   ],
   "source": [
    "# return back to the previous page using the back() function\n",
    "driver.back()\n",
    "print (driver.current_url)\n",
    "print (driver.title)"
   ]
  },
  {
   "cell_type": "code",
   "execution_count": 19,
   "id": "bee1e4ba-1497-4872-bdad-907b19deca1a",
   "metadata": {},
   "outputs": [
    {
     "name": "stdout",
     "output_type": "stream",
     "text": [
      "https://www.google.com/\n",
      "Google\n"
     ]
    }
   ],
   "source": [
    "# goto the Google again by foreward() function\n",
    "driver.forward()\n",
    "print (driver.current_url)\n",
    "print (driver.title)"
   ]
  },
  {
   "cell_type": "code",
   "execution_count": 20,
   "id": "4968a959-c858-4539-9817-f84a737b9a1d",
   "metadata": {},
   "outputs": [],
   "source": [
    "# close all windows which are opened by the driver\n",
    "driver.quit()"
   ]
  },
  {
   "cell_type": "code",
   "execution_count": null,
   "id": "aaf25276-371b-4032-895f-5425802dc8cc",
   "metadata": {},
   "outputs": [],
   "source": []
  },
  {
   "cell_type": "code",
   "execution_count": null,
   "id": "a30f2bcb-d70e-4c0f-96b4-c1d428639cd5",
   "metadata": {},
   "outputs": [],
   "source": []
  }
 ],
 "metadata": {
  "kernelspec": {
   "display_name": "Python 3",
   "language": "python",
   "name": "python3"
  },
  "language_info": {
   "codemirror_mode": {
    "name": "ipython",
    "version": 3
   },
   "file_extension": ".py",
   "mimetype": "text/x-python",
   "name": "python",
   "nbconvert_exporter": "python",
   "pygments_lexer": "ipython3",
   "version": "3.8.8"
  }
 },
 "nbformat": 4,
 "nbformat_minor": 5
}
