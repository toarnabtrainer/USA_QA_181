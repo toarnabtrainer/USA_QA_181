{
 "cells": [
  {
   "cell_type": "code",
   "execution_count": 1,
   "id": "d5ff0f7a-b81e-49f7-ae30-b729f71619c9",
   "metadata": {},
   "outputs": [
    {
     "name": "stdout",
     "output_type": "stream",
     "text": [
      "4.1.3\n"
     ]
    }
   ],
   "source": [
    "# importing all the required modules\n",
    "from selenium import webdriver\n",
    "\n",
    "# checking the version of selenium\n",
    "print (webdriver.__version__)"
   ]
  },
  {
   "cell_type": "code",
   "execution_count": 2,
   "id": "1efc9209-d277-4afd-808a-1753226facb9",
   "metadata": {},
   "outputs": [
    {
     "name": "stderr",
     "output_type": "stream",
     "text": [
      "<ipython-input-2-88a51502aa94>:2: DeprecationWarning: executable_path has been deprecated, please pass in a Service object\n",
      "  driver = webdriver.Chrome(executable_path = \"./chromedriver.exe\")\n"
     ]
    }
   ],
   "source": [
    "# checking whether chromedriver.exe is present in the present directory or not\n",
    "driver = webdriver.Chrome(executable_path = \"./chromedriver.exe\")"
   ]
  },
  {
   "cell_type": "code",
   "execution_count": 3,
   "id": "926f7f34-69a1-4640-93ae-d88a157e9c7a",
   "metadata": {},
   "outputs": [],
   "source": [
    "# opening one web portal to calculate nCr operations\n",
    "URL = \"https://www.calculatorsoup.com/calculators/discretemathematics/combinations.php\"\n",
    "driver.get(URL)"
   ]
  },
  {
   "cell_type": "code",
   "execution_count": 4,
   "id": "02353a2f-3a06-4c20-9921-8bef56df6ed2",
   "metadata": {},
   "outputs": [],
   "source": [
    "# inside this web page, input the value of n\n",
    "n_input = driver.find_element(\"id\", \"n\")\n",
    "n_input.clear()\n",
    "n_input.send_keys(\"10\")"
   ]
  },
  {
   "cell_type": "code",
   "execution_count": 5,
   "id": "26699c9c-0234-49f5-bbd5-9788d9c6d5c0",
   "metadata": {},
   "outputs": [],
   "source": [
    "# inside this web page, input the value of r\n",
    "r_input = driver.find_element(\"id\", \"r\")\n",
    "r_input.clear()\n",
    "r_input.send_keys(\"6\")"
   ]
  },
  {
   "cell_type": "code",
   "execution_count": 7,
   "id": "17ed3e01-91fc-4753-b2a5-6c5abd00f7e4",
   "metadata": {},
   "outputs": [],
   "source": [
    "# to press keys, we are using the library\n",
    "from selenium.webdriver.common.keys import Keys\n",
    "\n",
    "# press tab to go to the next input text area\n",
    "n_input.send_keys(Keys.TAB)\n",
    "\n",
    "# select currently selected input area\n",
    "r_input = driver.switch_to.active_element\n",
    "\n",
    "# put the value of r in this text area\n",
    "r_input.send_keys('6')"
   ]
  },
  {
   "cell_type": "code",
   "execution_count": null,
   "id": "49ee1e7f-2aa3-453d-90a2-a77a10190616",
   "metadata": {},
   "outputs": [],
   "source": [
    "10c6 = 10!/(6! * (10 - 6)!) = 10!/(6! * 4!) = (10*9*8*7) / (4*3*2*1) = 210"
   ]
  },
  {
   "cell_type": "code",
   "execution_count": 8,
   "id": "5a68bde5-5bd9-4638-aa10-4065d7f4f408",
   "metadata": {},
   "outputs": [],
   "source": [
    "# go to the calculate command button and click on it\n",
    "calculate_button = driver.find_element(\"id\", \"calculateButton\")\n",
    "calculate_button.click()"
   ]
  },
  {
   "cell_type": "code",
   "execution_count": 18,
   "id": "29146d47-2644-4795-8733-531c9028fe51",
   "metadata": {},
   "outputs": [
    {
     "name": "stdout",
     "output_type": "stream",
     "text": [
      "210\n"
     ]
    }
   ],
   "source": [
    "# reading the calculated answer from the first text area\n",
    "result_area = driver.find_element(\"id\", \"answer\")\n",
    "result = result_area.text\n",
    "# print (result, type(result))\n",
    "print (result.split(\"\\n\")[0].split(\" \")[1])"
   ]
  },
  {
   "cell_type": "code",
   "execution_count": 22,
   "id": "3e162cf3-c258-4a49-b5dc-0f10bb429064",
   "metadata": {},
   "outputs": [
    {
     "name": "stdout",
     "output_type": "stream",
     "text": [
      "210\n"
     ]
    },
    {
     "name": "stderr",
     "output_type": "stream",
     "text": [
      "<ipython-input-22-b488138a1c45>:2: DeprecationWarning: find_element_by_xpath is deprecated. Please use find_element(by=By.XPATH, value=xpath) instead\n",
      "  result_area = driver.find_element_by_xpath('//*[@id=\"answer\"]/div[1]')\n"
     ]
    }
   ],
   "source": [
    "# reading the calculated answer from the first text area\n",
    "result_area = driver.find_element_by_xpath('//*[@id=\"answer\"]/div[1]')\n",
    "result = result_area.text\n",
    "# print (result, type(result))\n",
    "print (result.split(\" \")[1])"
   ]
  },
  {
   "cell_type": "code",
   "execution_count": 23,
   "id": "fffbbd2c-f89b-41c5-8080-9094fe4a1591",
   "metadata": {},
   "outputs": [
    {
     "name": "stdout",
     "output_type": "stream",
     "text": [
      "210\n"
     ]
    }
   ],
   "source": [
    "# reading the calculated answer from the first text area\n",
    "result_area = driver.find_element(\"xpath\", '//*[@id=\"answer\"]/div[1]')\n",
    "result = result_area.text\n",
    "# print (result, type(result))\n",
    "print (result.split(\"\\n\")[0].split(\" \")[1])"
   ]
  },
  {
   "cell_type": "code",
   "execution_count": null,
   "id": "afb03143-3d7c-45e6-b332-819c4a0e3ef9",
   "metadata": {},
   "outputs": [],
   "source": []
  },
  {
   "cell_type": "code",
   "execution_count": null,
   "id": "3b99904a-4df0-4dc5-b0ec-771cd47f183c",
   "metadata": {},
   "outputs": [],
   "source": []
  },
  {
   "cell_type": "code",
   "execution_count": null,
   "id": "a814e851-3115-410f-b5ef-ed40e399cb2f",
   "metadata": {},
   "outputs": [],
   "source": []
  }
 ],
 "metadata": {
  "kernelspec": {
   "display_name": "Python 3",
   "language": "python",
   "name": "python3"
  },
  "language_info": {
   "codemirror_mode": {
    "name": "ipython",
    "version": 3
   },
   "file_extension": ".py",
   "mimetype": "text/x-python",
   "name": "python",
   "nbconvert_exporter": "python",
   "pygments_lexer": "ipython3",
   "version": "3.8.8"
  }
 },
 "nbformat": 4,
 "nbformat_minor": 5
}
