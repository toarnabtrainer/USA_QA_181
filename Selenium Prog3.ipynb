{
 "cells": [
  {
   "cell_type": "code",
   "execution_count": 1,
   "id": "a53002e9-7636-47de-b53f-db5bd3f71984",
   "metadata": {},
   "outputs": [
    {
     "name": "stdout",
     "output_type": "stream",
     "text": [
      "4.1.3\n"
     ]
    }
   ],
   "source": [
    "# importing required modules\n",
    "from selenium import webdriver\n",
    "\n",
    "# checking version\n",
    "print (webdriver.__version__)"
   ]
  },
  {
   "cell_type": "code",
   "execution_count": 3,
   "id": "14ce3457-0da4-4777-99fd-a752ce88bee8",
   "metadata": {},
   "outputs": [
    {
     "name": "stderr",
     "output_type": "stream",
     "text": [
      "<ipython-input-3-1fe88a91708b>:2: DeprecationWarning: executable_path has been deprecated, please pass in a Service object\n",
      "  driver = webdriver.Chrome(executable_path=\"./chromedriver.exe\")\n"
     ]
    }
   ],
   "source": [
    "# now open the following web portal using Selenium\n",
    "driver = webdriver.Chrome(executable_path=\"./chromedriver.exe\")\n",
    "driver.get('https://www.calculator.net/currency-calculator.html')"
   ]
  },
  {
   "cell_type": "code",
   "execution_count": 4,
   "id": "9596b48c-0f35-4929-927e-b0390e351bd8",
   "metadata": {},
   "outputs": [],
   "source": [
    "# import select and checkbox from Selenium library to get HTML select tags\n",
    "from selenium.webdriver.support.ui import Select"
   ]
  },
  {
   "cell_type": "code",
   "execution_count": 15,
   "id": "425cb57d-cd4c-4da7-9a7b-e4410d9da343",
   "metadata": {},
   "outputs": [],
   "source": [
    "# now select the FROM currency as INR and TO currency as USD from the drop down menu\n",
    "# from_currency = Select(driver.find_element_by_xpath('//*[@id=\"efrom\"]'))\n",
    "from_currency = Select(driver.find_element(\"id\", \"efrom\"))\n",
    "from_currency.select_by_visible_text('INR: Indian Rupee')"
   ]
  },
  {
   "cell_type": "code",
   "execution_count": 14,
   "id": "4ef88f7e-2d2c-44ce-bb73-bca0ea52c4d5",
   "metadata": {},
   "outputs": [],
   "source": [
    "# to_currency = Select(driver.find_element_by_xpath('//*[@id=\"eto\"]'))\n",
    "to_currency = Select(driver.find_element(\"id\", \"eto\"))\n",
    "to_currency.select_by_value('USD')"
   ]
  },
  {
   "cell_type": "code",
   "execution_count": 10,
   "id": "04471cf7-03d8-4bfe-8b66-8246da22ffbe",
   "metadata": {},
   "outputs": [],
   "source": [
    "# put the amount 500\n",
    "# amount_textbox = driver.find_element_by_xpath('//*[@id=\"eamount\"]')\n",
    "amount_textbox = driver.find_element(\"id\", \"eamount\")\n",
    "amount_textbox.clear()\n",
    "amount_textbox.send_keys('700')"
   ]
  },
  {
   "cell_type": "code",
   "execution_count": 11,
   "id": "95f3b391-c227-46a0-b7a6-94c2eeff623f",
   "metadata": {},
   "outputs": [],
   "source": [
    "# click on the calculate button\n",
    "# calculate_button = driver.find_element_by_xpath('//*[@id=\"standard\"]/tbody/tr[5]/td[2]/input[2]')\n",
    "calculate_button = driver.find_element('xpath', '//*[@id=\"standard\"]/tbody/tr[5]/td[2]/input[2]')\n",
    "calculate_button.click()"
   ]
  },
  {
   "cell_type": "code",
   "execution_count": 18,
   "id": "ef03ac61-6662-423d-a314-967e258fa926",
   "metadata": {},
   "outputs": [],
   "source": [
    "# now to handle checkbox to get all available currencies\n",
    "# checkbox = driver.find_element_by_xpath('//*[@id=\"ccmajorccsettingbox\"]')\n",
    "checkbox = driver.find_element(\"id\", \"ccmajorccsettingbox\")\n",
    "if checkbox.is_selected():\n",
    "    driver.execute_script(\"arguments[0].click();\", checkbox)"
   ]
  },
  {
   "cell_type": "code",
   "execution_count": 19,
   "id": "69917a70-a041-4acb-a5d6-0c0b98210a70",
   "metadata": {},
   "outputs": [],
   "source": [
    "# change the from currency to 'ZWL'\n",
    "from_currency = Select(driver.find_element(\"id\", \"efrom\"))\n",
    "from_currency.select_by_value('ZWL')"
   ]
  },
  {
   "cell_type": "code",
   "execution_count": 21,
   "id": "8a3742f4-27e8-45a3-8e0c-158844e1a7dd",
   "metadata": {},
   "outputs": [],
   "source": [
    "# change the to currency to 'BDT'\n",
    "to_currency = Select(driver.find_element(\"id\", \"eto\"))\n",
    "to_currency.select_by_value('BDT')"
   ]
  },
  {
   "cell_type": "code",
   "execution_count": 22,
   "id": "f3a60ff3-719c-40fe-abf0-21c023998744",
   "metadata": {},
   "outputs": [],
   "source": [
    "# clear the textbox field and then insert 1000\n",
    "amount_textbox = driver.find_element(\"id\", \"eamount\")\n",
    "amount_textbox.clear()\n",
    "amount_textbox.send_keys(\"5000\")"
   ]
  },
  {
   "cell_type": "code",
   "execution_count": 23,
   "id": "eecb587c-bf02-42b2-a122-03fad0ded9b6",
   "metadata": {},
   "outputs": [],
   "source": [
    "# click on the calculate button\n",
    "calculate_button = driver.find_element(\"xpath\", '//*[@id=\"standard\"]/tbody/tr[5]/td[2]/input[2]')\n",
    "calculate_button.click()"
   ]
  },
  {
   "cell_type": "code",
   "execution_count": 24,
   "id": "f9e254da-e687-46da-a87d-76a398752ffb",
   "metadata": {},
   "outputs": [],
   "source": [
    "# quitting\n",
    "driver.quit()"
   ]
  },
  {
   "cell_type": "code",
   "execution_count": null,
   "id": "24a3b075-0409-48b4-b7ac-f034ab8eacdb",
   "metadata": {},
   "outputs": [],
   "source": []
  },
  {
   "cell_type": "code",
   "execution_count": null,
   "id": "ec03576b-8683-43d1-9f1a-45bc1969efd4",
   "metadata": {},
   "outputs": [],
   "source": []
  },
  {
   "cell_type": "code",
   "execution_count": null,
   "id": "2ca2fa94-0427-4239-a3e9-20401e7f00d0",
   "metadata": {},
   "outputs": [],
   "source": []
  },
  {
   "cell_type": "code",
   "execution_count": null,
   "id": "e5734afa-d4ef-42c7-a377-fbc9a505e30c",
   "metadata": {},
   "outputs": [],
   "source": []
  },
  {
   "cell_type": "code",
   "execution_count": null,
   "id": "cdec78c4-7387-4acc-9c0f-6b7826cd8f73",
   "metadata": {},
   "outputs": [],
   "source": []
  },
  {
   "cell_type": "code",
   "execution_count": null,
   "id": "2539b78b-f782-49d1-afc7-ca0d97dba80d",
   "metadata": {},
   "outputs": [],
   "source": []
  },
  {
   "cell_type": "code",
   "execution_count": null,
   "id": "6f1b8468-c30f-4983-bc0b-c70e01939d0f",
   "metadata": {},
   "outputs": [],
   "source": []
  },
  {
   "cell_type": "code",
   "execution_count": null,
   "id": "61826c78-b5c6-457c-b888-0022910de7ec",
   "metadata": {},
   "outputs": [],
   "source": []
  },
  {
   "cell_type": "code",
   "execution_count": null,
   "id": "12667d60-f2c7-491e-9733-4c56ab645a73",
   "metadata": {},
   "outputs": [],
   "source": []
  },
  {
   "cell_type": "code",
   "execution_count": null,
   "id": "08841f2d-730a-4d46-84fc-1b8940d9ea63",
   "metadata": {},
   "outputs": [],
   "source": []
  }
 ],
 "metadata": {
  "kernelspec": {
   "display_name": "Python 3",
   "language": "python",
   "name": "python3"
  },
  "language_info": {
   "codemirror_mode": {
    "name": "ipython",
    "version": 3
   },
   "file_extension": ".py",
   "mimetype": "text/x-python",
   "name": "python",
   "nbconvert_exporter": "python",
   "pygments_lexer": "ipython3",
   "version": "3.8.8"
  }
 },
 "nbformat": 4,
 "nbformat_minor": 5
}
