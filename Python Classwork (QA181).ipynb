{
 "cells": [
  {
   "cell_type": "markdown",
   "id": "f58a79bf-19b5-442b-99fe-26d00380bada",
   "metadata": {},
   "source": [
    "### Python Operators"
   ]
  },
  {
   "cell_type": "code",
   "execution_count": 1,
   "id": "33d57343-b03d-4056-90b8-b72171f46962",
   "metadata": {},
   "outputs": [
    {
     "name": "stdout",
     "output_type": "stream",
     "text": [
      "140\n",
      "60\n",
      "4000\n",
      "2.5\n",
      "2\n",
      "20\n",
      "100000000\n"
     ]
    }
   ],
   "source": [
    "# arithmetic operators\n",
    "print (100 + 40)    # addition operation\n",
    "print (100 - 40)    # subtraction operation\n",
    "print (100 * 40)    # multiplication operation\n",
    "print (100 / 40)    # float division operation\n",
    "print (100 // 40)   # integer division operation\n",
    "print (100 % 40)    # modulus (mod) operation\n",
    "print (100 ** 4)    # exponentiation operation"
   ]
  },
  {
   "cell_type": "code",
   "execution_count": 2,
   "id": "688d33a3-dda2-4410-94f2-3057101fedfe",
   "metadata": {},
   "outputs": [
    {
     "name": "stdout",
     "output_type": "stream",
     "text": [
      "True True False False False True\n",
      "False False True True False True\n"
     ]
    }
   ],
   "source": [
    "# relational operators\n",
    "print (100 > 20, 100 >= 20, 100 < 20, 100 <= 20, 100 == 20, 100 != 20)\n",
    "print (100 > 200, 100 >= 200, 100 < 200, 100 <= 200, 100 == 200, 100 != 200)"
   ]
  },
  {
   "cell_type": "code",
   "execution_count": 6,
   "id": "83098b60-8909-4cc1-a33e-e6688e29af47",
   "metadata": {},
   "outputs": [
    {
     "name": "stdout",
     "output_type": "stream",
     "text": [
      "False\n",
      "True False False False\n",
      "True True True False\n",
      "False True\n"
     ]
    }
   ],
   "source": [
    "# logical operators\n",
    "print (100 > 20 and 100 > 200)\n",
    "print (True and True, True and False, False and True, False and False)\n",
    "print (True or True, True or False, False or True, False or False)\n",
    "print (not True, not False)"
   ]
  },
  {
   "cell_type": "markdown",
   "id": "a5151715-9c44-4d49-8bd9-9a1f2f9891fd",
   "metadata": {},
   "source": [
    "### Python Conditional Statements"
   ]
  },
  {
   "cell_type": "code",
   "execution_count": 17,
   "id": "a421dc26-4d6c-4fa1-817f-e2152815eaa2",
   "metadata": {},
   "outputs": [
    {
     "name": "stdin",
     "output_type": "stream",
     "text": [
      "Please enter the first number:  300\n",
      "Please enter the second number:  100\n",
      "Please enter the third number:  200\n"
     ]
    },
    {
     "name": "stdout",
     "output_type": "stream",
     "text": [
      "The first number is the maximum number...\n",
      "Maximum: 300\n",
      "End of the program...\n"
     ]
    }
   ],
   "source": [
    "num1 = int(input(\"Please enter the first number: \"))\n",
    "num2 = int(input(\"Please enter the second number: \"))\n",
    "num3 = int(input(\"Please enter the third number: \"))\n",
    "if (num1 >= num2):\n",
    "    if (num1 >= num3):\n",
    "        print (\"The first number is the maximum number...\")\n",
    "        print (\"Maximum:\", num1)\n",
    "    else:\n",
    "        print (\"The third number is the maximum number...\")\n",
    "        print (\"Maximum:\", num3)\n",
    "elif (num2 >= num3):\n",
    "    print (\"The second number is the maximum number...\")\n",
    "    print (\"Maximum:\", num2)\n",
    "else:\n",
    "    print (\"The third number is the maximum number...\")\n",
    "    print (\"Maximum:\", num3)\n",
    "print (\"End of the program...\")"
   ]
  },
  {
   "cell_type": "code",
   "execution_count": 44,
   "id": "75c0c3b6-cf2b-445e-9189-ae95e4f51eea",
   "metadata": {},
   "outputs": [
    {
     "name": "stdin",
     "output_type": "stream",
     "text": [
      "Please enter the first number:  100\n",
      "Please enter the second number:  300\n",
      "Please enter the third number:  200\n"
     ]
    },
    {
     "name": "stdout",
     "output_type": "stream",
     "text": [
      "The second number is the maximum number...\n",
      "Maximum: 300\n",
      "End of the program...\n"
     ]
    }
   ],
   "source": [
    "num1 = int(input(\"Please enter the first number: \"))\n",
    "num2 = int(input(\"Please enter the second number: \"))\n",
    "num3 = int(input(\"Please enter the third number: \"))\n",
    "if (num1 >= num2 and num1 >= num3):\n",
    "    print (\"The first number is the maximum number...\")\n",
    "    print (\"Maximum:\", num1)\n",
    "elif (num2 >= num3):\n",
    "    print (\"The second number is the maximum number...\")\n",
    "    print (\"Maximum:\", num2)\n",
    "else:\n",
    "    print (\"The third number is the maximum number...\")\n",
    "    print (\"Maximum:\", num3)\n",
    "print (\"End of the program...\")"
   ]
  },
  {
   "cell_type": "markdown",
   "id": "794efb71-7c91-4b8a-8cd1-1454cc758173",
   "metadata": {},
   "source": [
    "### Python Loops"
   ]
  },
  {
   "cell_type": "code",
   "execution_count": 23,
   "id": "4c67cbbb-1b1d-46af-b918-602f0165e863",
   "metadata": {},
   "outputs": [
    {
     "name": "stdout",
     "output_type": "stream",
     "text": [
      "Looping for i = 1\n",
      "Looping for i = 2\n",
      "Looping for i = 3\n",
      "Looping for i = 4\n",
      "Looping for i = 5\n",
      "Looping for i = 6\n",
      "Looping for i = 7\n",
      "Looping for i = 8\n",
      "End of the program...\n"
     ]
    }
   ],
   "source": [
    "i = 1\n",
    "while (i <= 8):\n",
    "    print (\"Looping for i =\", i)\n",
    "    i = i + 1\n",
    "print (\"End of the program...\")"
   ]
  },
  {
   "cell_type": "code",
   "execution_count": 25,
   "id": "6b9eb431-41c2-471c-bdfb-5710515bd161",
   "metadata": {},
   "outputs": [
    {
     "name": "stdout",
     "output_type": "stream",
     "text": [
      "Looping for i = 1\n",
      "Looping for i = 2\n",
      "Looping for i = 3\n",
      "Looping for i = 4\n",
      "Looping for i = 5\n",
      "End of the program...\n"
     ]
    }
   ],
   "source": [
    "i = 1\n",
    "while (i <= 8):\n",
    "    print (\"Looping for i =\", i)\n",
    "    if (i == 5): break\n",
    "    i = i + 1\n",
    "else:\n",
    "    print (\"Else block is executing...\")\n",
    "print (\"End of the program...\")"
   ]
  },
  {
   "cell_type": "code",
   "execution_count": 26,
   "id": "f4979f1a-8529-4a58-8acc-205509c6fe0d",
   "metadata": {},
   "outputs": [
    {
     "name": "stdout",
     "output_type": "stream",
     "text": [
      "Looping for i = 0\n",
      "Looping for i = 1\n",
      "Looping for i = 2\n",
      "Looping for i = 3\n",
      "Looping for i = 4\n",
      "Looping for i = 5\n",
      "Looping for i = 6\n",
      "Looping for i = 7\n",
      "End of the program...\n"
     ]
    }
   ],
   "source": [
    "for i in range(8):\n",
    "    print (\"Looping for i =\",i)\n",
    "print (\"End of the program...\")"
   ]
  },
  {
   "cell_type": "code",
   "execution_count": 27,
   "id": "c5e816a6-a807-4121-a684-cd505364b219",
   "metadata": {},
   "outputs": [
    {
     "name": "stdout",
     "output_type": "stream",
     "text": [
      "Looping for i = 1\n",
      "Looping for i = 3\n",
      "Looping for i = 5\n",
      "Looping for i = 7\n",
      "Looping for i = 9\n",
      "End of the program...\n"
     ]
    }
   ],
   "source": [
    "for i in range(1, 10, 2):\n",
    "    print (\"Looping for i =\",i)\n",
    "print (\"End of the program...\")"
   ]
  },
  {
   "cell_type": "code",
   "execution_count": 29,
   "id": "2d06fc87-1961-4076-b964-3437352d5024",
   "metadata": {},
   "outputs": [
    {
     "name": "stdout",
     "output_type": "stream",
     "text": [
      "Looping for i = 0\n",
      "Looping for i = 1\n",
      "Looping for i = 2\n",
      "Looping for i = 3\n",
      "Looping for i = 4\n",
      "Looping for i = 5\n",
      "End of the program...\n"
     ]
    }
   ],
   "source": [
    "for i in range(8):\n",
    "    print (\"Looping for i =\",i)\n",
    "    if (i == 5): break\n",
    "else:\n",
    "    print (\"Executing the ELSE block...\")\n",
    "print (\"End of the program...\")"
   ]
  },
  {
   "cell_type": "code",
   "execution_count": 34,
   "id": "ba082ab6-8ebc-4c28-b425-0c1104ca5c71",
   "metadata": {},
   "outputs": [
    {
     "name": "stdout",
     "output_type": "stream",
     "text": [
      "Hello Hello Hello Hello Hello \n",
      "Welcome !!! Welcome !!! Welcome !!! Welcome !!! Welcome !!! \n"
     ]
    }
   ],
   "source": [
    "print (\"Hello \" * 5)\n",
    "print (\"Welcome !!! \" * 5)"
   ]
  },
  {
   "cell_type": "code",
   "execution_count": null,
   "id": "d608d388-c272-4e8e-8c57-2e45e562097d",
   "metadata": {},
   "outputs": [],
   "source": [
    "n = 6          i    .    *\n",
    "             ---------------\n",
    ".....*         1    5    1\n",
    "....***        2    4    3   . => (n - i)\n",
    "...*****       3    3    5\n",
    "..*******      4    2    7   * => 2 * i - 1\n",
    ".*********     5    1    9\n",
    "***********    6    0   11\n",
    "             ---------------"
   ]
  },
  {
   "cell_type": "code",
   "execution_count": 39,
   "id": "a6d2d7dd-e8f7-4c95-a9e2-f1d6648c75a0",
   "metadata": {},
   "outputs": [
    {
     "name": "stdin",
     "output_type": "stream",
     "text": [
      "Please enter the number of levels:  6\n"
     ]
    },
    {
     "name": "stdout",
     "output_type": "stream",
     "text": [
      ".....*\n",
      "....***\n",
      "...*****\n",
      "..*******\n",
      ".*********\n",
      "***********\n",
      "End of the program...\n"
     ]
    }
   ],
   "source": [
    "n = int(input(\"Please enter the number of levels: \"))\n",
    "for i in range(1, n + 1):\n",
    "    print (\".\" * (n - i) + \"*\" * (2 * i - 1))\n",
    "print (\"End of the program...\")"
   ]
  },
  {
   "cell_type": "code",
   "execution_count": 42,
   "id": "4263f311-5860-4d75-88dc-0948320a9bc5",
   "metadata": {},
   "outputs": [
    {
     "name": "stdin",
     "output_type": "stream",
     "text": [
      "Please enter an integer:  6\n"
     ]
    },
    {
     "name": "stdout",
     "output_type": "stream",
     "text": [
      "1 1\n",
      "2 2\n",
      "3 6\n",
      "4 24\n",
      "5 120\n",
      "6 720\n",
      "720\n"
     ]
    }
   ],
   "source": [
    "# Find the factorial of a given number\n",
    "# n! = 1 * 2 * 3 * 4 * ... * n\n",
    "# n! = n * (n - 1) * (n - 2) * (n - 3) * ... * 1\n",
    "# 5! = 1 * 2 * 3 * 4 * 5 = 5 * 4 * 3 * 2 * 1\n",
    "n = int(input(\"Please enter an integer: \"))\n",
    "if (n == 0 or n == 1): print (\"1\")\n",
    "fact = 1\n",
    "for i in range(1, n + 1):\n",
    "    fact = fact * i\n",
    "    print (i, fact)\n",
    "print (fact)"
   ]
  },
  {
   "cell_type": "markdown",
   "id": "48a6baff-8562-464e-94a2-8be963e2feff",
   "metadata": {},
   "source": [
    "### User Defined Functions"
   ]
  },
  {
   "cell_type": "code",
   "execution_count": 3,
   "id": "4bfb8e90-d2fe-4795-bf0b-0b65afee0790",
   "metadata": {},
   "outputs": [
    {
     "name": "stdout",
     "output_type": "stream",
     "text": [
      "Hello Hello Hello \n",
      "Hello Hello Hello \n",
      "Hello Hello Hello \n",
      "Hello Hello Hello \n"
     ]
    }
   ],
   "source": [
    "def funct1():\n",
    "    print (\"Hello \" * 3)\n",
    "    \n",
    "funct1()\n",
    "funct1()\n",
    "funct1()\n",
    "funct1()"
   ]
  },
  {
   "cell_type": "code",
   "execution_count": 7,
   "id": "4b8e064d-f9eb-44e0-8e98-8f8478461b58",
   "metadata": {},
   "outputs": [
    {
     "name": "stdout",
     "output_type": "stream",
     "text": [
      "Welcome Welcome Welcome Welcome Welcome Welcome Welcome Welcome Welcome Welcome \n",
      "Hello Hello Hello Hello Hello Hello \n",
      "Good Morning Good Morning Good Morning Good Morning Good Morning Good Morning Good Morning Good Morning \n"
     ]
    }
   ],
   "source": [
    "def funct2(msg, times):   # positional parameters\n",
    "    print (msg * times)\n",
    "    \n",
    "funct2(\"Welcome \", 10)    # positional arguments\n",
    "funct2(\"Hello \", 6)\n",
    "funct2(\"Good Morning \", 8)"
   ]
  },
  {
   "cell_type": "code",
   "execution_count": 8,
   "id": "f31e8113-7ac3-4487-a64f-9fd428bbfe8f",
   "metadata": {},
   "outputs": [
    {
     "name": "stdout",
     "output_type": "stream",
     "text": [
      "Hello Hello Hello Hello Hello Hello Hello \n",
      "Welcome Welcome Welcome Welcome Welcome \n",
      "H! !!! H! !!! H! !!! H! !!! \n"
     ]
    }
   ],
   "source": [
    "def funct3(msg, times):\n",
    "    return msg * times\n",
    "\n",
    "result = funct3(\"Hello \", 7)\n",
    "print (result)\n",
    "result = funct3(\"Welcome \", 5)\n",
    "print (result)\n",
    "print (funct3(\"H! !!! \", 4))"
   ]
  },
  {
   "cell_type": "code",
   "execution_count": 18,
   "id": "01233857-2a36-4afa-beb5-b3dc527895be",
   "metadata": {},
   "outputs": [
    {
     "name": "stdout",
     "output_type": "stream",
     "text": [
      "par1 = 100, par2 = 200 and par3 = 300...\n",
      "par1 = 100, par2 = 200 and par3 = 333...\n",
      "par1 = 100, par2 = 222 and par3 = 333...\n",
      "par1 = 111, par2 = 222 and par3 = 333...\n",
      "par1 = 100, par2 = 222 and par3 = 300...\n",
      "par1 = 100, par2 = 222 and par3 = 300...\n",
      "par1 = 111, par2 = 200 and par3 = 333...\n"
     ]
    }
   ],
   "source": [
    "# parameters with default arguments\n",
    "def funct4(par1 = 111, par2 = 222, par3 = 333):\n",
    "    print (f\"par1 = {par1}, par2 = {par2} and par3 = {par3}...\")\n",
    "    \n",
    "funct4(100, 200, 300)\n",
    "funct4(100, 200)\n",
    "funct4(100)\n",
    "funct4()\n",
    "funct4(par1 = 100, par3 = 300)\n",
    "funct4(par3 = 300, par1 = 100)\n",
    "funct4(par2 = 200)"
   ]
  },
  {
   "cell_type": "code",
   "execution_count": 21,
   "id": "2b78974a-fbf2-40b4-aef5-c8d2c52bc682",
   "metadata": {},
   "outputs": [
    {
     "name": "stdout",
     "output_type": "stream",
     "text": [
      "1000\n",
      "200\n"
     ]
    }
   ],
   "source": [
    "def funct5(par1, par2 = None):\n",
    "    if (par2 == None):\n",
    "        return par1 + par1\n",
    "    else:\n",
    "        return par1 + par2\n",
    "        \n",
    "print (funct5(100, 900))\n",
    "print (funct5(100))"
   ]
  },
  {
   "cell_type": "code",
   "execution_count": 24,
   "id": "80457287-573a-4e7b-84cd-c8f57fcb7ba1",
   "metadata": {},
   "outputs": [
    {
     "name": "stdout",
     "output_type": "stream",
     "text": [
      "Total = 140, Difference = 60, Product = 4000 and Quitient = 2.5\n",
      "(140, 60, 4000, 2.5) <class 'tuple'> 4\n",
      "Total = 140, Difference = 60, Product = 4000 and Quitient = 2.5\n"
     ]
    }
   ],
   "source": [
    "def funct6(num1, num2):\n",
    "    total = num1 + num2\n",
    "    difference = num1 - num2\n",
    "    product = num1 * num2\n",
    "    quotient = num1 / num2\n",
    "    return total, difference, product, quotient\n",
    "\n",
    "tt, dd, pp, qq = funct6(100, 40)\n",
    "print (f\"Total = {tt}, Difference = {dd}, Product = {pp} and Quitient = {qq}\")\n",
    "result = funct6(100, 40)\n",
    "print (result, type(result), len(result))\n",
    "print (f\"Total = {result[0]}, Difference = {result[1]}, Product = {result[2]} and Quitient = {result[3]}\")"
   ]
  },
  {
   "cell_type": "code",
   "execution_count": 28,
   "id": "7dfefbe7-846a-4968-97fd-384f15c2b26d",
   "metadata": {},
   "outputs": [
    {
     "name": "stdout",
     "output_type": "stream",
     "text": [
      "5 120\n",
      "6 720\n",
      "1 1\n"
     ]
    }
   ],
   "source": [
    "# 5! = 1 * 2 * 3 * 4 * 5 = 5 * 4 * 3 * 2 * 1 = 120\n",
    "# 6! = 1 * 2 * 3 * 4 * 5 * 6 = 6 * 5 * 4 * 3 * 2 * 1 = 720\n",
    "# non-recursive factorial calculation code implementation\n",
    "def factorial_nr(num):\n",
    "    fact = 1\n",
    "    for i in range(1, num + 1):   # iteration or looping, iterative function\n",
    "        fact = fact * i\n",
    "    return fact\n",
    "\n",
    "n = 5\n",
    "print (n, factorial_nr(n))\n",
    "n = 6\n",
    "print (n, factorial_nr(n))\n",
    "n = 1\n",
    "print (n, factorial_nr(n))"
   ]
  },
  {
   "cell_type": "code",
   "execution_count": 29,
   "id": "7c718c29-ec96-4d56-9037-567b6691f863",
   "metadata": {},
   "outputs": [
    {
     "name": "stdout",
     "output_type": "stream",
     "text": [
      "5 120\n",
      "6 720\n",
      "1 1\n"
     ]
    }
   ],
   "source": [
    "5! = 5 * 4 * 3 * 2 * 1 = 5 * 4!\n",
    "# recursive factorial calculation code implementation\n",
    "def factorial_r(num):\n",
    "    if (num == 0 | num == 1): return 1    # Case-1: Base case\n",
    "    return num * factorial_r(num - 1)     # Case-2: Recursive case, the function is calling itself\n",
    "\n",
    "n = 5\n",
    "print (n, factorial_r(n))\n",
    "n = 6\n",
    "print (n, factorial_r(n))\n",
    "n = 1\n",
    "print (n, factorial_r(n))"
   ]
  },
  {
   "cell_type": "code",
   "execution_count": 32,
   "id": "112e9ed0-fc58-4741-a554-3c0c94fa28c9",
   "metadata": {},
   "outputs": [
    {
     "name": "stdout",
     "output_type": "stream",
     "text": [
      "140\n",
      "60\n",
      "4000\n",
      "2.5\n",
      "Division by ZERO is Illegal...\n",
      "Invalid Choice Number...\n"
     ]
    }
   ],
   "source": [
    "def funct7(num1, num2, choice):\n",
    "    if (choice == 1): return num1 + num2\n",
    "    elif (choice == 2): return num1 - num2\n",
    "    elif (choice == 3): return num1 * num2\n",
    "    elif (choice == 4): \n",
    "        if (num2 == 0): return \"Division by ZERO is Illegal...\"\n",
    "        else: return num1 / num2\n",
    "    else: return \"Invalid Choice Number...\"\n",
    "\n",
    "num1 = 100\n",
    "num2 = 40\n",
    "print (funct7(num1, num2, 1))\n",
    "print (funct7(num1, num2, 2))\n",
    "print (funct7(num1, num2, 3))\n",
    "print (funct7(num1, num2, 4))\n",
    "print (funct7(num1, 0, 4))\n",
    "print (funct7(num1, num2, 5))"
   ]
  },
  {
   "cell_type": "markdown",
   "id": "1a1cd83d-5e35-4def-a472-ada1c8780f16",
   "metadata": {},
   "source": [
    "### Python Collectoins"
   ]
  },
  {
   "cell_type": "markdown",
   "id": "4984f4fe-cdba-475b-b7ac-c08f13a7722d",
   "metadata": {},
   "source": [
    "### List Processing"
   ]
  },
  {
   "cell_type": "code",
   "execution_count": 4,
   "id": "25b7e044-60ab-4ecf-90c6-97fad15d86dd",
   "metadata": {},
   "outputs": [
    {
     "name": "stdout",
     "output_type": "stream",
     "text": [
      "[100, 200, 300, 600, 500] 5 <class 'list'> 2318680303872\n",
      "100 600\n",
      "1700 340.0\n"
     ]
    }
   ],
   "source": [
    "list1 = [100, 200, 300, 600, 500]\n",
    "print (list1, len(list1), type(list1), id(list1))\n",
    "print (min(list1), max(list1))\n",
    "print (sum(list1), sum(list1) / len(list1))"
   ]
  },
  {
   "cell_type": "code",
   "execution_count": 7,
   "id": "c7ebf949-0657-4a66-a33f-5106d13dbe85",
   "metadata": {},
   "outputs": [
    {
     "name": "stdout",
     "output_type": "stream",
     "text": [
      "['red', 'green', 'blue', 'black', 'white'] 5 <class 'list'> 2318680182464\n",
      "black white\n"
     ]
    }
   ],
   "source": [
    "list1 = ['red', 'green', 'blue', 'black', 'white']\n",
    "print (list1, len(list1), type(list1), id(list1))\n",
    "print (min(list1), max(list1))\n",
    "# print (sum(list1), sum(list1) / len(list1))"
   ]
  },
  {
   "cell_type": "code",
   "execution_count": 8,
   "id": "7c22a471-5b81-49c5-90cb-7862c2c89603",
   "metadata": {},
   "outputs": [
    {
     "name": "stdout",
     "output_type": "stream",
     "text": [
      "['red', 'green', 100, True, 'blue', 'black', 22.5, False, 'white'] 9 <class 'list'> 2318680302592\n"
     ]
    },
    {
     "ename": "TypeError",
     "evalue": "'<' not supported between instances of 'int' and 'str'",
     "output_type": "error",
     "traceback": [
      "\u001b[1;31m---------------------------------------------------------------------------\u001b[0m",
      "\u001b[1;31mTypeError\u001b[0m                                 Traceback (most recent call last)",
      "\u001b[1;32m<ipython-input-8-14651890a986>\u001b[0m in \u001b[0;36m<module>\u001b[1;34m\u001b[0m\n\u001b[0;32m      1\u001b[0m \u001b[0mlist1\u001b[0m \u001b[1;33m=\u001b[0m \u001b[1;33m[\u001b[0m\u001b[1;34m'red'\u001b[0m\u001b[1;33m,\u001b[0m \u001b[1;34m'green'\u001b[0m\u001b[1;33m,\u001b[0m \u001b[1;36m100\u001b[0m\u001b[1;33m,\u001b[0m \u001b[1;32mTrue\u001b[0m\u001b[1;33m,\u001b[0m \u001b[1;34m'blue'\u001b[0m\u001b[1;33m,\u001b[0m \u001b[1;34m'black'\u001b[0m\u001b[1;33m,\u001b[0m \u001b[1;36m22.5\u001b[0m\u001b[1;33m,\u001b[0m \u001b[1;32mFalse\u001b[0m\u001b[1;33m,\u001b[0m \u001b[1;34m'white'\u001b[0m\u001b[1;33m]\u001b[0m\u001b[1;33m\u001b[0m\u001b[1;33m\u001b[0m\u001b[0m\n\u001b[0;32m      2\u001b[0m \u001b[0mprint\u001b[0m \u001b[1;33m(\u001b[0m\u001b[0mlist1\u001b[0m\u001b[1;33m,\u001b[0m \u001b[0mlen\u001b[0m\u001b[1;33m(\u001b[0m\u001b[0mlist1\u001b[0m\u001b[1;33m)\u001b[0m\u001b[1;33m,\u001b[0m \u001b[0mtype\u001b[0m\u001b[1;33m(\u001b[0m\u001b[0mlist1\u001b[0m\u001b[1;33m)\u001b[0m\u001b[1;33m,\u001b[0m \u001b[0mid\u001b[0m\u001b[1;33m(\u001b[0m\u001b[0mlist1\u001b[0m\u001b[1;33m)\u001b[0m\u001b[1;33m)\u001b[0m\u001b[1;33m\u001b[0m\u001b[1;33m\u001b[0m\u001b[0m\n\u001b[1;32m----> 3\u001b[1;33m \u001b[0mprint\u001b[0m \u001b[1;33m(\u001b[0m\u001b[0mmin\u001b[0m\u001b[1;33m(\u001b[0m\u001b[0mlist1\u001b[0m\u001b[1;33m)\u001b[0m\u001b[1;33m,\u001b[0m \u001b[0mmax\u001b[0m\u001b[1;33m(\u001b[0m\u001b[0mlist1\u001b[0m\u001b[1;33m)\u001b[0m\u001b[1;33m)\u001b[0m\u001b[1;33m\u001b[0m\u001b[1;33m\u001b[0m\u001b[0m\n\u001b[0m\u001b[0;32m      4\u001b[0m \u001b[1;31m# print (sum(list1), sum(list1) / len(list1))\u001b[0m\u001b[1;33m\u001b[0m\u001b[1;33m\u001b[0m\u001b[1;33m\u001b[0m\u001b[0m\n",
      "\u001b[1;31mTypeError\u001b[0m: '<' not supported between instances of 'int' and 'str'"
     ]
    }
   ],
   "source": [
    "list1 = ['red', 'green', 100, True, 'blue', 'black', 22.5, False, 'white']\n",
    "print (list1, len(list1), type(list1), id(list1))\n",
    "print (min(list1), max(list1))\n",
    "# print (sum(list1), sum(list1) / len(list1))"
   ]
  },
  {
   "cell_type": "code",
   "execution_count": 17,
   "id": "17f30d7b-9757-4973-a74f-d1359dd97401",
   "metadata": {},
   "outputs": [
    {
     "name": "stdout",
     "output_type": "stream",
     "text": [
      "[100, 200, 400] 3\n",
      "[100, 200, 400, 500] 4\n",
      "[100, 200, 400, 500, 340] 5\n"
     ]
    }
   ],
   "source": [
    "list1 = [100, 200, 400]\n",
    "print (list1, len(list1))\n",
    "list1.append(500)\n",
    "print (list1, len(list1))\n",
    "list1.append(340)\n",
    "print (list1, len(list1))"
   ]
  },
  {
   "cell_type": "code",
   "execution_count": 21,
   "id": "cbd93fdf-4576-490d-b911-8f0af12916ec",
   "metadata": {},
   "outputs": [
    {
     "name": "stdout",
     "output_type": "stream",
     "text": [
      "[100, 200, 400] 3\n",
      "[100, 450, 200, 400] 4\n",
      "[1000, 100, 450, 200, 400] 5\n"
     ]
    }
   ],
   "source": [
    "list1 = [100, 200, 400]\n",
    "print (list1, len(list1))\n",
    "list1.insert(1, 450)\n",
    "print (list1, len(list1))\n",
    "list1.insert(0, 1000)\n",
    "print (list1, len(list1))"
   ]
  },
  {
   "cell_type": "code",
   "execution_count": 18,
   "id": "91328e59-f249-4459-b118-bc04489c6724",
   "metadata": {},
   "outputs": [
    {
     "name": "stdout",
     "output_type": "stream",
     "text": [
      "[100, 200, 400] 3\n",
      "[100, 250, 400] 3\n"
     ]
    }
   ],
   "source": [
    "list1 = [100, 200, 400]\n",
    "print (list1, len(list1))\n",
    "list1[1] = 250\n",
    "print (list1, len(list1))"
   ]
  },
  {
   "cell_type": "code",
   "execution_count": 22,
   "id": "107f2755-d1e1-4988-8895-8247c83be743",
   "metadata": {},
   "outputs": [
    {
     "name": "stdout",
     "output_type": "stream",
     "text": [
      "[100, 200, 400] 3\n",
      "[] 0\n"
     ]
    }
   ],
   "source": [
    "list1 = [100, 200, 400]\n",
    "print (list1, len(list1))\n",
    "list1.clear()\n",
    "print (list1, len(list1))"
   ]
  },
  {
   "cell_type": "code",
   "execution_count": 25,
   "id": "64f97514-33da-4ffe-a3e2-b5915a4bfd6d",
   "metadata": {},
   "outputs": [
    {
     "name": "stdout",
     "output_type": "stream",
     "text": [
      "[100, 200, 400, 500, 600, 250] 6\n",
      "[100, 200, 500, 600, 250] 5\n",
      "[100, 200, 500, 250] 4\n"
     ]
    },
    {
     "ename": "NameError",
     "evalue": "name 'list1' is not defined",
     "output_type": "error",
     "traceback": [
      "\u001b[1;31m---------------------------------------------------------------------------\u001b[0m",
      "\u001b[1;31mNameError\u001b[0m                                 Traceback (most recent call last)",
      "\u001b[1;32m<ipython-input-25-818f02a93686>\u001b[0m in \u001b[0;36m<module>\u001b[1;34m\u001b[0m\n\u001b[0;32m      6\u001b[0m \u001b[0mprint\u001b[0m \u001b[1;33m(\u001b[0m\u001b[0mlist1\u001b[0m\u001b[1;33m,\u001b[0m \u001b[0mlen\u001b[0m\u001b[1;33m(\u001b[0m\u001b[0mlist1\u001b[0m\u001b[1;33m)\u001b[0m\u001b[1;33m)\u001b[0m\u001b[1;33m\u001b[0m\u001b[1;33m\u001b[0m\u001b[0m\n\u001b[0;32m      7\u001b[0m \u001b[1;32mdel\u001b[0m \u001b[0mlist1\u001b[0m\u001b[1;33m\u001b[0m\u001b[1;33m\u001b[0m\u001b[0m\n\u001b[1;32m----> 8\u001b[1;33m \u001b[0mprint\u001b[0m \u001b[1;33m(\u001b[0m\u001b[0mlist1\u001b[0m\u001b[1;33m,\u001b[0m \u001b[0mlen\u001b[0m\u001b[1;33m(\u001b[0m\u001b[0mlist1\u001b[0m\u001b[1;33m)\u001b[0m\u001b[1;33m)\u001b[0m\u001b[1;33m\u001b[0m\u001b[1;33m\u001b[0m\u001b[0m\n\u001b[0m",
      "\u001b[1;31mNameError\u001b[0m: name 'list1' is not defined"
     ]
    }
   ],
   "source": [
    "list1 = [100, 200, 400, 500, 600, 250]\n",
    "print (list1, len(list1))\n",
    "del list1[2]\n",
    "print (list1, len(list1))\n",
    "del list1[3]\n",
    "print (list1, len(list1))\n",
    "del list1\n",
    "print (list1, len(list1))"
   ]
  },
  {
   "cell_type": "code",
   "execution_count": 30,
   "id": "316427fb-69e7-4263-b02c-3c62ffd75c18",
   "metadata": {},
   "outputs": [
    {
     "name": "stdout",
     "output_type": "stream",
     "text": [
      "[100, 200, 400, 500, 600, 250] 6\n",
      "[111, 222, 444, 555] 4\n",
      "[100, 200, 400, 500, 600, 250, 111, 222, 444, 555] 10\n",
      "[[100, 200, 400, 500, 600, 250], [111, 222, 444, 555]] 2\n",
      "222\n"
     ]
    }
   ],
   "source": [
    "list1 = [100, 200, 400, 500, 600, 250]\n",
    "print (list1, len(list1))\n",
    "list2 = [111, 222, 444, 555]\n",
    "print (list2, len(list2))\n",
    "list3 = list1 + list2\n",
    "print (list3, len(list3))\n",
    "list4 = [list1, list2]\n",
    "print (list4, len(list4))\n",
    "print (list4[1][1])"
   ]
  },
  {
   "cell_type": "markdown",
   "id": "3b5a7c56-24b7-4781-96fb-8b42e4124105",
   "metadata": {},
   "source": [
    "### Tuple Processing"
   ]
  },
  {
   "cell_type": "code",
   "execution_count": 10,
   "id": "67a4c4ba-1230-4b56-9d17-4b3b3afa07cc",
   "metadata": {},
   "outputs": [
    {
     "name": "stdout",
     "output_type": "stream",
     "text": [
      "(100, 200, 300, 600, 500) 5 <class 'tuple'> 2318679252800\n",
      "100 600\n",
      "1700 340.0\n"
     ]
    }
   ],
   "source": [
    "tuple1 = (100, 200, 300, 600, 500)\n",
    "print (tuple1, len(tuple1), type(tuple1), id(tuple1))\n",
    "print (min(tuple1), max(tuple1))\n",
    "print (sum(tuple1), sum(tuple1) / len(tuple1))"
   ]
  },
  {
   "cell_type": "code",
   "execution_count": 14,
   "id": "cda44fc7-8d98-483d-b301-6df7fd1eed47",
   "metadata": {},
   "outputs": [
    {
     "name": "stdout",
     "output_type": "stream",
     "text": [
      "('red', 'green', 'blue', 'black', 'white') 5 <class 'tuple'> 2318680266928\n",
      "black white\n"
     ]
    }
   ],
   "source": [
    "tuple1 = ('red', 'green', 'blue', 'black', 'white')\n",
    "print (tuple1, len(tuple1), type(tuple1), id(tuple1))\n",
    "print (min(tuple1), max(tuple1))\n",
    "# print (sum(tuple1), sum(tuple1) / len(tuple1))"
   ]
  },
  {
   "cell_type": "code",
   "execution_count": 15,
   "id": "674e3e2e-25fe-44a4-8334-aa82e15c9d92",
   "metadata": {},
   "outputs": [
    {
     "name": "stdout",
     "output_type": "stream",
     "text": [
      "('red', 'green', 100, True, 'blue', 'black', 22.5, False, 'white') 9 <class 'tuple'> 2318668845456\n"
     ]
    }
   ],
   "source": [
    "tuple1 = ('red', 'green', 100, True, 'blue', 'black', 22.5, False, 'white')\n",
    "print (tuple1, len(tuple1), type(tuple1), id(tuple1))\n",
    "# print (min(tuple1), max(tuple1))\n",
    "# print (sum(tuple1), sum(tuple1) / len(tuple1))"
   ]
  },
  {
   "cell_type": "code",
   "execution_count": 19,
   "id": "df2e0b2b-7d6d-495b-83e2-b0ebef55c35a",
   "metadata": {},
   "outputs": [
    {
     "name": "stdout",
     "output_type": "stream",
     "text": [
      "(100, 200, 400) 3\n"
     ]
    },
    {
     "ename": "TypeError",
     "evalue": "'tuple' object does not support item assignment",
     "output_type": "error",
     "traceback": [
      "\u001b[1;31m---------------------------------------------------------------------------\u001b[0m",
      "\u001b[1;31mTypeError\u001b[0m                                 Traceback (most recent call last)",
      "\u001b[1;32m<ipython-input-19-51723d4a0648>\u001b[0m in \u001b[0;36m<module>\u001b[1;34m\u001b[0m\n\u001b[0;32m      1\u001b[0m \u001b[0mtuple1\u001b[0m \u001b[1;33m=\u001b[0m \u001b[1;33m(\u001b[0m\u001b[1;36m100\u001b[0m\u001b[1;33m,\u001b[0m \u001b[1;36m200\u001b[0m\u001b[1;33m,\u001b[0m \u001b[1;36m400\u001b[0m\u001b[1;33m)\u001b[0m\u001b[1;33m\u001b[0m\u001b[1;33m\u001b[0m\u001b[0m\n\u001b[0;32m      2\u001b[0m \u001b[0mprint\u001b[0m \u001b[1;33m(\u001b[0m\u001b[0mtuple1\u001b[0m\u001b[1;33m,\u001b[0m \u001b[0mlen\u001b[0m\u001b[1;33m(\u001b[0m\u001b[0mtuple1\u001b[0m\u001b[1;33m)\u001b[0m\u001b[1;33m)\u001b[0m\u001b[1;33m\u001b[0m\u001b[1;33m\u001b[0m\u001b[0m\n\u001b[1;32m----> 3\u001b[1;33m \u001b[0mtuple1\u001b[0m\u001b[1;33m[\u001b[0m\u001b[1;36m1\u001b[0m\u001b[1;33m]\u001b[0m \u001b[1;33m=\u001b[0m \u001b[1;36m250\u001b[0m\u001b[1;33m\u001b[0m\u001b[1;33m\u001b[0m\u001b[0m\n\u001b[0m\u001b[0;32m      4\u001b[0m \u001b[0mprint\u001b[0m \u001b[1;33m(\u001b[0m\u001b[0mtuple1\u001b[0m\u001b[1;33m,\u001b[0m \u001b[0mlen\u001b[0m\u001b[1;33m(\u001b[0m\u001b[0mtuple1\u001b[0m\u001b[1;33m)\u001b[0m\u001b[1;33m)\u001b[0m\u001b[1;33m\u001b[0m\u001b[1;33m\u001b[0m\u001b[0m\n",
      "\u001b[1;31mTypeError\u001b[0m: 'tuple' object does not support item assignment"
     ]
    }
   ],
   "source": [
    "tuple1 = (100, 200, 400)\n",
    "print (tuple1, len(tuple1))\n",
    "tuple1[1] = 250\n",
    "print (tuple1, len(tuple1))"
   ]
  },
  {
   "cell_type": "markdown",
   "id": "9a25a9da-cce5-47c0-9060-b88c016aec74",
   "metadata": {},
   "source": [
    "### Dictionary Processing"
   ]
  },
  {
   "cell_type": "code",
   "execution_count": 34,
   "id": "a0f8f110-5686-46e4-8784-ef743e6c1bb2",
   "metadata": {},
   "outputs": [
    {
     "name": "stdout",
     "output_type": "stream",
     "text": [
      "{'mango': 340, 'banana': 650, 'guava': 320, 'orange': 560} 4 <class 'dict'> 2318699857984\n",
      "dict_keys(['mango', 'banana', 'guava', 'orange'])\n",
      "dict_values([340, 650, 320, 560])\n",
      "dict_items([('mango', 340), ('banana', 650), ('guava', 320), ('orange', 560)])\n"
     ]
    }
   ],
   "source": [
    "dict1 = {\"mango\":340, \"banana\":650, \"guava\":320, \"orange\":560}\n",
    "print (dict1, len(dict1), type(dict1), id(dict1))\n",
    "print (dict1.keys())\n",
    "print (dict1.values())\n",
    "print (dict1.items())"
   ]
  },
  {
   "cell_type": "code",
   "execution_count": 36,
   "id": "aade0812-5b80-47e4-b9c0-27075481c04d",
   "metadata": {},
   "outputs": [
    {
     "name": "stdout",
     "output_type": "stream",
     "text": [
      "{'mango': 340, 'banana': 650, 'guava': 320, 'orange': 560} 4 <class 'dict'> 2318700088256\n",
      "{'mango': 340, 'banana': 650, 'guava': 320, 'orange': 900} 4 <class 'dict'> 2318700088256\n",
      "{'mango': 340, 'banana': 650, 'guava': 320, 'orange': 900, 'lemon': 870} 5 <class 'dict'> 2318700088256\n"
     ]
    }
   ],
   "source": [
    "dict1 = {\"mango\":340, \"banana\":650, \"guava\":320, \"orange\":560}\n",
    "print (dict1, len(dict1), type(dict1), id(dict1))\n",
    "dict1[\"orange\"] = 900   # update operation on dictionary\n",
    "print (dict1, len(dict1), type(dict1), id(dict1))\n",
    "dict1[\"lemon\"] = 870   # insert operation on dictionary\n",
    "print (dict1, len(dict1), type(dict1), id(dict1))"
   ]
  },
  {
   "cell_type": "code",
   "execution_count": 39,
   "id": "45bbdef7-5394-415a-882f-1b40d2d22436",
   "metadata": {},
   "outputs": [
    {
     "name": "stdout",
     "output_type": "stream",
     "text": [
      "{'mango': 340, 'banana': 650, 'guava': 320, 'orange': 560} 4 <class 'dict'> 2318699856896\n",
      "320\n",
      "{'mango': 340, 'banana': 650, 'orange': 560} 3 <class 'dict'> 2318699856896\n"
     ]
    }
   ],
   "source": [
    "dict1 = {\"mango\":340, \"banana\":650, \"guava\":320, \"orange\":560}\n",
    "print (dict1, len(dict1), type(dict1), id(dict1))\n",
    "print (dict1.pop(\"guava\"))\n",
    "print (dict1, len(dict1), type(dict1), id(dict1))"
   ]
  },
  {
   "cell_type": "code",
   "execution_count": 44,
   "id": "fb18d8e0-d414-4e4e-a8d9-270834fb1789",
   "metadata": {},
   "outputs": [
    {
     "name": "stdout",
     "output_type": "stream",
     "text": [
      "{'mango': 340, 'banana': 650, 'guava': 320, 'orange': 560} 4 <class 'dict'> 2318681173120\n",
      "('orange', 560)\n",
      "{'mango': 340, 'banana': 650, 'guava': 320} 3 <class 'dict'> 2318681173120\n",
      "('guava', 320)\n",
      "{'mango': 340, 'banana': 650} 2 <class 'dict'> 2318681173120\n",
      "('banana', 650)\n",
      "{'mango': 340} 1 <class 'dict'> 2318681173120\n"
     ]
    }
   ],
   "source": [
    "dict1 = {\"mango\":340, \"banana\":650, \"guava\":320, \"orange\":560}\n",
    "print (dict1, len(dict1), type(dict1), id(dict1))\n",
    "print (dict1.popitem())\n",
    "print (dict1, len(dict1), type(dict1), id(dict1))\n",
    "print (dict1.popitem())\n",
    "print (dict1, len(dict1), type(dict1), id(dict1))\n",
    "print (dict1.popitem())\n",
    "print (dict1, len(dict1), type(dict1), id(dict1))"
   ]
  },
  {
   "cell_type": "code",
   "execution_count": 48,
   "id": "b5cc4795-b9be-4b71-825b-c03bc9e192d9",
   "metadata": {},
   "outputs": [
    {
     "name": "stdout",
     "output_type": "stream",
     "text": [
      "{'mango': 340, 'banana': 650, 'guava': 320, 'orange': 560} 4 <class 'dict'> 2318699394816\n",
      "650\n"
     ]
    },
    {
     "ename": "KeyError",
     "evalue": "'lemon'",
     "output_type": "error",
     "traceback": [
      "\u001b[1;31m---------------------------------------------------------------------------\u001b[0m",
      "\u001b[1;31mKeyError\u001b[0m                                  Traceback (most recent call last)",
      "\u001b[1;32m<ipython-input-48-eb6c2e94f99a>\u001b[0m in \u001b[0;36m<module>\u001b[1;34m\u001b[0m\n\u001b[0;32m      2\u001b[0m \u001b[0mprint\u001b[0m \u001b[1;33m(\u001b[0m\u001b[0mdict1\u001b[0m\u001b[1;33m,\u001b[0m \u001b[0mlen\u001b[0m\u001b[1;33m(\u001b[0m\u001b[0mdict1\u001b[0m\u001b[1;33m)\u001b[0m\u001b[1;33m,\u001b[0m \u001b[0mtype\u001b[0m\u001b[1;33m(\u001b[0m\u001b[0mdict1\u001b[0m\u001b[1;33m)\u001b[0m\u001b[1;33m,\u001b[0m \u001b[0mid\u001b[0m\u001b[1;33m(\u001b[0m\u001b[0mdict1\u001b[0m\u001b[1;33m)\u001b[0m\u001b[1;33m)\u001b[0m\u001b[1;33m\u001b[0m\u001b[1;33m\u001b[0m\u001b[0m\n\u001b[0;32m      3\u001b[0m \u001b[0mprint\u001b[0m \u001b[1;33m(\u001b[0m\u001b[0mdict1\u001b[0m\u001b[1;33m[\u001b[0m\u001b[1;34m\"banana\"\u001b[0m\u001b[1;33m]\u001b[0m\u001b[1;33m)\u001b[0m\u001b[1;33m\u001b[0m\u001b[1;33m\u001b[0m\u001b[0m\n\u001b[1;32m----> 4\u001b[1;33m \u001b[0mprint\u001b[0m \u001b[1;33m(\u001b[0m\u001b[0mdict1\u001b[0m\u001b[1;33m[\u001b[0m\u001b[1;34m\"lemon\"\u001b[0m\u001b[1;33m]\u001b[0m\u001b[1;33m)\u001b[0m\u001b[1;33m\u001b[0m\u001b[1;33m\u001b[0m\u001b[0m\n\u001b[0m",
      "\u001b[1;31mKeyError\u001b[0m: 'lemon'"
     ]
    }
   ],
   "source": [
    "dict1 = {\"mango\":340, \"banana\":650, \"guava\":320, \"orange\":560}\n",
    "print (dict1, len(dict1), type(dict1), id(dict1))\n",
    "print (dict1[\"banana\"])\n",
    "print (dict1[\"lemon\"])"
   ]
  },
  {
   "cell_type": "code",
   "execution_count": 51,
   "id": "88568337-840b-414b-b4d5-94060b95bafa",
   "metadata": {},
   "outputs": [
    {
     "name": "stdout",
     "output_type": "stream",
     "text": [
      "{'mango': 340, 'banana': 650, 'guava': 320, 'orange': 560} 4 <class 'dict'> 2318701051456\n",
      "650\n",
      "650\n",
      "None\n",
      "Not available...\n"
     ]
    }
   ],
   "source": [
    "dict1 = {\"mango\":340, \"banana\":650, \"guava\":320, \"orange\":560}\n",
    "print (dict1, len(dict1), type(dict1), id(dict1))\n",
    "print (dict1.get(\"banana\"))\n",
    "print (dict1.get(\"banana\", \"Not available...\"))\n",
    "print (dict1.get(\"lemon\"))\n",
    "print (dict1.get(\"lemon\", \"Not available...\"))"
   ]
  },
  {
   "cell_type": "markdown",
   "id": "07cad5fc-513d-4679-8ddf-a181022e5dfc",
   "metadata": {},
   "source": [
    "### Set Processing"
   ]
  },
  {
   "cell_type": "code",
   "execution_count": 53,
   "id": "53a7ed76-16a5-4fd4-8d82-8ba998972541",
   "metadata": {},
   "outputs": [
    {
     "name": "stdout",
     "output_type": "stream",
     "text": [
      "{'python', 'java', 'perl', 'c'} 4\n"
     ]
    }
   ],
   "source": [
    "languages = set(['java', 'c', 'perl', 'java', 'perl', 'python', 'python'])\n",
    "print (languages, len(languages))"
   ]
  },
  {
   "cell_type": "code",
   "execution_count": 58,
   "id": "cf387606-2bd5-499f-9844-c0319ab941fa",
   "metadata": {},
   "outputs": [
    {
     "name": "stdout",
     "output_type": "stream",
     "text": [
      "{'java', 'python', 'c'} 3\n",
      "{'cobra', 'python', 'viper'} 3\n",
      "{'cobra', 'python', 'c', 'java', 'viper'}\n",
      "{'cobra', 'python', 'c', 'java', 'viper'}\n"
     ]
    }
   ],
   "source": [
    "# union operation\n",
    "languages = set(['java', 'c', 'python'])\n",
    "print (languages, len(languages))\n",
    "snakes = set(['python', 'cobra', 'viper'])\n",
    "print (snakes, len(snakes))\n",
    "print (snakes.union(languages))\n",
    "print (snakes | languages)"
   ]
  },
  {
   "cell_type": "code",
   "execution_count": 59,
   "id": "3df0913d-de56-4a45-b577-7475b8ef2824",
   "metadata": {},
   "outputs": [
    {
     "name": "stdout",
     "output_type": "stream",
     "text": [
      "{'java', 'python', 'c'} 3\n",
      "{'cobra', 'python', 'viper'} 3\n",
      "{'python'}\n",
      "{'python'}\n"
     ]
    }
   ],
   "source": [
    "# intersection operation\n",
    "languages = set(['java', 'c', 'python'])\n",
    "print (languages, len(languages))\n",
    "snakes = set(['python', 'cobra', 'viper'])\n",
    "print (snakes, len(snakes))\n",
    "print (snakes.intersection(languages))\n",
    "print (snakes & languages)"
   ]
  },
  {
   "cell_type": "code",
   "execution_count": 60,
   "id": "55dc981d-be7c-4434-98c5-0d9a0a080c35",
   "metadata": {},
   "outputs": [
    {
     "name": "stdout",
     "output_type": "stream",
     "text": [
      "{'java', 'python', 'c'} 3\n",
      "{'cobra', 'python', 'viper'} 3\n",
      "{'cobra', 'viper'}\n",
      "{'cobra', 'viper'}\n"
     ]
    }
   ],
   "source": [
    "# difference operation\n",
    "languages = set(['java', 'c', 'python'])\n",
    "print (languages, len(languages))\n",
    "snakes = set(['python', 'cobra', 'viper'])\n",
    "print (snakes, len(snakes))\n",
    "print (snakes.difference(languages))\n",
    "print (snakes - languages)"
   ]
  },
  {
   "cell_type": "code",
   "execution_count": 61,
   "id": "24a2de43-198f-4a02-8bf6-397fd3d07d3e",
   "metadata": {},
   "outputs": [
    {
     "name": "stdout",
     "output_type": "stream",
     "text": [
      "{'java', 'python', 'c'} 3\n",
      "{'cobra', 'python', 'viper'} 3\n",
      "{'c', 'cobra', 'java', 'viper'}\n",
      "{'c', 'cobra', 'java', 'viper'}\n"
     ]
    }
   ],
   "source": [
    "languages = set(['java', 'c', 'python'])\n",
    "print (languages, len(languages))\n",
    "snakes = set(['python', 'cobra', 'viper'])\n",
    "print (snakes, len(snakes))\n",
    "print (snakes.symmetric_difference(languages))\n",
    "print (snakes ^ languages)"
   ]
  },
  {
   "cell_type": "code",
   "execution_count": 67,
   "id": "8eedbc61-be0f-41cd-9593-f58acf834468",
   "metadata": {},
   "outputs": [
    {
     "name": "stdout",
     "output_type": "stream",
     "text": [
      "{'java', 'python', 'c'} 3\n",
      "{'haskel', 'c', 'kotlin', 'python', 'java'} 5\n"
     ]
    }
   ],
   "source": [
    "languages = set(['java', 'c', 'python'])\n",
    "print (languages, len(languages))\n",
    "languages.add('kotlin')\n",
    "languages.add('haskel')\n",
    "print (languages, len(languages))"
   ]
  },
  {
   "cell_type": "code",
   "execution_count": 68,
   "id": "10541e87-53ff-4b48-a669-92d7f2f10168",
   "metadata": {},
   "outputs": [
    {
     "name": "stdout",
     "output_type": "stream",
     "text": [
      "{'java', 'python', 'c'} 3\n",
      "{'python'} 1\n"
     ]
    }
   ],
   "source": [
    "languages = set(['java', 'c', 'python'])\n",
    "print (languages, len(languages))\n",
    "languages.remove('c')\n",
    "languages.remove('java')\n",
    "print (languages, len(languages))"
   ]
  },
  {
   "cell_type": "code",
   "execution_count": 69,
   "id": "5a54608b-7480-408b-bffe-747513b60351",
   "metadata": {},
   "outputs": [
    {
     "name": "stdout",
     "output_type": "stream",
     "text": [
      "{'java', 'python', 'c'} 3\n",
      "{'java', 'c++', 'python'} 3\n"
     ]
    }
   ],
   "source": [
    "languages = set(['java', 'c', 'python'])\n",
    "print (languages, len(languages))\n",
    "languages.remove('c')\n",
    "languages.add('c++')\n",
    "print (languages, len(languages))"
   ]
  },
  {
   "cell_type": "markdown",
   "id": "527288ee-b117-4fdc-89ec-c81a16973abe",
   "metadata": {},
   "source": [
    "### Frozenset Processing"
   ]
  },
  {
   "cell_type": "code",
   "execution_count": 62,
   "id": "5df95fcf-71b0-4ff2-a1c9-fc8ed5cfc08f",
   "metadata": {},
   "outputs": [
    {
     "name": "stdout",
     "output_type": "stream",
     "text": [
      "frozenset({'java', 'python', 'c'}) 3 <class 'frozenset'>\n",
      "frozenset({'cobra', 'python', 'viper'}) 3 <class 'frozenset'>\n",
      "frozenset({'cobra', 'python', 'c', 'java', 'viper'})\n",
      "frozenset({'cobra', 'python', 'c', 'java', 'viper'})\n"
     ]
    }
   ],
   "source": [
    "# union operation\n",
    "languages = frozenset(['java', 'c', 'python'])\n",
    "print (languages, len(languages), type(languages))\n",
    "snakes = frozenset(['python', 'cobra', 'viper'])\n",
    "print (snakes, len(snakes), type(snakes))\n",
    "print (snakes.union(languages))\n",
    "print (snakes | languages)"
   ]
  },
  {
   "cell_type": "code",
   "execution_count": 63,
   "id": "91b5cfec-7e8d-4d94-8c41-1d6c6e996509",
   "metadata": {},
   "outputs": [
    {
     "name": "stdout",
     "output_type": "stream",
     "text": [
      "frozenset({'java', 'python', 'c'}) 3 <class 'frozenset'>\n",
      "frozenset({'cobra', 'python', 'viper'}) 3 <class 'frozenset'>\n",
      "frozenset({'python'})\n",
      "frozenset({'python'})\n"
     ]
    }
   ],
   "source": [
    "# intersection operation\n",
    "languages = frozenset(['java', 'c', 'python'])\n",
    "print (languages, len(languages), type(languages))\n",
    "snakes = frozenset(['python', 'cobra', 'viper'])\n",
    "print (snakes, len(snakes), type(snakes))\n",
    "print (snakes.intersection(languages))\n",
    "print (snakes & languages)"
   ]
  },
  {
   "cell_type": "code",
   "execution_count": 65,
   "id": "d1385ae1-b78d-488f-b970-6896a01c1198",
   "metadata": {},
   "outputs": [
    {
     "name": "stdout",
     "output_type": "stream",
     "text": [
      "frozenset({'java', 'python', 'c'}) 3 <class 'frozenset'>\n",
      "frozenset({'cobra', 'python', 'viper'}) 3 <class 'frozenset'>\n",
      "frozenset({'cobra', 'viper'})\n",
      "frozenset({'cobra', 'viper'})\n"
     ]
    }
   ],
   "source": [
    "# difference operation\n",
    "languages = frozenset(['java', 'c', 'python'])\n",
    "print (languages, len(languages), type(languages))\n",
    "snakes = frozenset(['python', 'cobra', 'viper'])\n",
    "print (snakes, len(snakes), type(snakes))\n",
    "print (snakes.difference(languages))\n",
    "print (snakes - languages)"
   ]
  },
  {
   "cell_type": "code",
   "execution_count": 70,
   "id": "ba12c863-3950-4304-a7e7-8c4cc0b1aac0",
   "metadata": {},
   "outputs": [
    {
     "name": "stdout",
     "output_type": "stream",
     "text": [
      "frozenset({'java', 'python', 'c'}) 3 <class 'frozenset'>\n",
      "frozenset({'cobra', 'python', 'viper'}) 3 <class 'frozenset'>\n",
      "frozenset({'c', 'cobra', 'java', 'viper'})\n",
      "frozenset({'c', 'cobra', 'java', 'viper'})\n"
     ]
    }
   ],
   "source": [
    "# symmetric difference operation\n",
    "languages = frozenset(['java', 'c', 'python'])\n",
    "print (languages, len(languages), type(languages))\n",
    "snakes = frozenset(['python', 'cobra', 'viper'])\n",
    "print (snakes, len(snakes), type(snakes))\n",
    "print (snakes.symmetric_difference(languages))\n",
    "print (snakes ^ languages)"
   ]
  },
  {
   "cell_type": "code",
   "execution_count": null,
   "id": "66c88fa3-8232-44eb-911f-0f6501f20030",
   "metadata": {},
   "outputs": [],
   "source": []
  },
  {
   "cell_type": "code",
   "execution_count": null,
   "id": "c4524811-cd08-4a89-bcd5-badfe027760c",
   "metadata": {},
   "outputs": [],
   "source": []
  }
 ],
 "metadata": {
  "kernelspec": {
   "display_name": "Python 3",
   "language": "python",
   "name": "python3"
  },
  "language_info": {
   "codemirror_mode": {
    "name": "ipython",
    "version": 3
   },
   "file_extension": ".py",
   "mimetype": "text/x-python",
   "name": "python",
   "nbconvert_exporter": "python",
   "pygments_lexer": "ipython3",
   "version": "3.8.8"
  }
 },
 "nbformat": 4,
 "nbformat_minor": 5
}
